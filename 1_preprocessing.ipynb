{
 "cells": [
  {
   "cell_type": "code",
   "execution_count": 2,
   "id": "turkish-original",
   "metadata": {},
   "outputs": [],
   "source": [
    "import pandas as pd\n",
    "import numpy as np\n",
    "import matplotlib.pyplot as plt\n",
    "import seaborn as sns\n",
    "import scipy\n",
    "\n",
    "def profit(quantity, price, cost):\n",
    "    return (quantity * price) - cost\n",
    "\n",
    "def remove_low_sales(df, min_count = 50):\n",
    "    \"remove items with sales less than minimum\"\n",
    "    eligible_items = list((df['item_id'].value_counts() < min_count).index)\n",
    "    return df[df['item_id'].isin(eligible_items)]\n",
    "\n",
    "def create_random_cost(df,item_id,mu=75,sigma=5):\n",
    "    \"create randomized item cost rate\"\n",
    "    #item_list = df['item_id'].unique()\n",
    "    #random_cost = np.random.normal(mu, sigma, len(item_list))\n",
    "    #return pd.DataFrame(zip(item_list,random_cost),columns=['item_id','cost'])\n",
    "    np.random.seed(1)\n",
    "    #rate_cost = np.random.randint(60,80,size=1)/100\n",
    "    rate_cost = 0.83\n",
    "    print(rate_cost)\n",
    "    mean_price = df[df['item_id'] == item_id]['item_price'].mean()\n",
    "    return (rate_cost * mean_price)"
   ]
  },
  {
   "cell_type": "code",
   "execution_count": 228,
   "id": "attractive-arctic",
   "metadata": {},
   "outputs": [
    {
     "name": "stdout",
     "output_type": "stream",
     "text": [
      "0.83\n"
     ]
    }
   ],
   "source": [
    "sales_raw = pd.read_csv('raw_data/sales_train.csv')\n",
    "sales = sales_raw.copy()\n",
    "sales = sales[sales['item_cnt_day'] != -1]\n",
    "sales['date'] = pd.to_datetime(sales['date'],dayfirst=True)\n",
    "sales['year'] = sales['date'].dt.year\n",
    "sales['month'] = sales['date'].dt.month\n",
    "sales['date_2'] = sales['date'].dt.strftime('%Y-%m')\n",
    "\n",
    "select_shop_id = 31 # top observations\n",
    "select_item_id = 4181 # top observations\n",
    "sales = sales[sales['shop_id'] == select_shop_id]\n",
    "item_cost = create_random_cost(sales, select_item_id)\n",
    "sales = sales[sales['item_id'] == select_item_id]\n",
    "sales = sales.drop(['shop_id','item_id'],axis=1)"
   ]
  },
  {
   "cell_type": "markdown",
   "id": "orange-vector",
   "metadata": {},
   "source": [
    "# Analisar a curva de oferta x demanda"
   ]
  },
  {
   "cell_type": "code",
   "execution_count": 229,
   "id": "interracial-timeline",
   "metadata": {},
   "outputs": [],
   "source": [
    "#sales_agg = sales[sales['year'] == 2013].copy()\n",
    "sales_agg = sales.copy()\n",
    "sales_agg = sales_agg.groupby('date_2').agg({'item_cnt_day' : ['sum'], 'item_price' : ['mean']})\n",
    "sales_agg.columns = [\"_\".join(x) for x in sales_agg.columns]"
   ]
  },
  {
   "cell_type": "code",
   "execution_count": 230,
   "id": "considerable-south",
   "metadata": {},
   "outputs": [
    {
     "data": {
      "text/plain": [
       "<seaborn.axisgrid.FacetGrid at 0x7f5e3dda6130>"
      ]
     },
     "execution_count": 230,
     "metadata": {},
     "output_type": "execute_result"
    },
    {
     "data": {
      "image/png": "[encoded data removed]",
      "text/plain": [
       "<Figure size 288x288 with 1 Axes>"
      ]
     },
     "metadata": {
      "needs_background": "light"
     },
     "output_type": "display_data"
    }
   ],
   "source": [
    "sns.lmplot(x = 'item_price_mean', y = 'item_cnt_day_sum', data = sales_agg, height = 4)"
   ]
  },
  {
   "cell_type": "markdown",
   "id": "ancient-reasoning",
   "metadata": {},
   "source": [
    "# Estimar a função de demanda"
   ]
  },
  {
   "cell_type": "code",
   "execution_count": 231,
   "id": "military-october",
   "metadata": {},
   "outputs": [],
   "source": [
    "from sklearn.linear_model import LinearRegression\n",
    "\n",
    "def estimate_demand_function(x,y):\n",
    "    \"basic estimate demand function using OLS\"\n",
    "    length = len(x)\n",
    "    reg = LinearRegression().fit(x.values.reshape(length, 1), y.values.reshape(length, 1))\n",
    "    return reg#[reg.intercept_[0],reg.coef_[0][0]]\n",
    "\n",
    "est_quantity = estimate_demand_function(sales_agg['item_price_mean'],sales_agg['item_cnt_day_sum'])"
   ]
  },
  {
   "cell_type": "markdown",
   "id": "respected-product",
   "metadata": {},
   "source": [
    "# Gráfico de preço x lucro"
   ]
  },
  {
   "cell_type": "code",
   "execution_count": 232,
   "id": "legal-mayor",
   "metadata": {},
   "outputs": [
    {
     "data": {
      "text/plain": [
       "[<matplotlib.lines.Line2D at 0x7f5e497fd4f0>]"
      ]
     },
     "execution_count": 232,
     "metadata": {},
     "output_type": "execute_result"
    },
    {
     "data": {
      "image/png": "[encoded data removed]",
      "text/plain": [
       "<Figure size 432x288 with 1 Axes>"
      ]
     },
     "metadata": {
      "needs_background": "light"
     },
     "output_type": "display_data"
    }
   ],
   "source": [
    "def set_price_range(x):\n",
    "    minimum_price = x.min()*0.8\n",
    "    maximum_price = x.max()*1.2\n",
    "    return range(round(minimum_price), round(maximum_price), 10)\n",
    "\n",
    "price_range = set_price_range(sales_agg['item_price_mean'])\n",
    "cost = item_cost\n",
    "Profit = []\n",
    "\n",
    "for price_i in price_range:\n",
    "    quantity_demanded = est_quantity.predict(np.array(price_i).reshape(1, -1))   \n",
    "    Profit.append(profit(quantity_demanded, price_i, cost))\n",
    "\n",
    "df_profit = pd.DataFrame({\"Price\": price_range, \"Profit\": Profit})\n",
    "plt.plot(df_profit[\"Price\"], df_profit[\"Profit\"])"
   ]
  },
  {
   "cell_type": "code",
   "execution_count": 233,
   "id": "median-sperm",
   "metadata": {},
   "outputs": [
    {
     "data": {
      "text/plain": [
       "Price                       926\n",
       "Profit    [[23651.34315294664]]\n",
       "Name: 30, dtype: object"
      ]
     },
     "execution_count": 233,
     "metadata": {},
     "output_type": "execute_result"
    }
   ],
   "source": [
    "# lucro preço x lucro máximo\n",
    "max_idx = df_profit['Profit'].sort_values(ascending=False).index[0]\n",
    "df_profit.iloc[max_idx,:]"
   ]
  },
  {
   "cell_type": "markdown",
   "id": "capable-replacement",
   "metadata": {},
   "source": [
    "# Cálcular o estoque de segurança"
   ]
  },
  {
   "cell_type": "code",
   "execution_count": 421,
   "id": "purple-rainbow",
   "metadata": {},
   "outputs": [
    {
     "name": "stdout",
     "output_type": "stream",
     "text": [
      "est_demand : [[24.4183054]] \n",
      " mean_demand: 21.037037037037038 \n",
      " std_demand: 67.65242165242165\n"
     ]
    }
   ],
   "source": [
    "# product variables\n",
    "select_price = 1000\n",
    "estimate_demand = est_quantity.predict(np.array(select_price).reshape(1, -1))\n",
    "mean_demand = sales_agg['item_cnt_day_sum'].mean()\n",
    "std_demand = sales_agg['item_cnt_day_sum'].var()\n",
    "print(f'est_demand : {estimate_demand} \\n mean_demand: {mean_demand} \\n std_demand: {std_demand}')\n",
    "# supply variables\n",
    "mean_lead_time = 70 # 0.5 * 30 = 15 days\n",
    "std_lean_time = 10 #  0.2 * 30 = 6 days\n",
    "# tolerance variable\n",
    "stock_tolerance = 0.6"
   ]
  },
  {
   "cell_type": "code",
   "execution_count": 422,
   "id": "pacific-rebel",
   "metadata": {},
   "outputs": [
    {
     "data": {
      "text/plain": [
       "array([[12.2865705]])"
      ]
     },
     "execution_count": 422,
     "metadata": {},
     "output_type": "execute_result"
    }
   ],
   "source": [
    "def calculate_security_stock(tolerance, mean_lead, std_lead, mean_demand, std_demand):\n",
    "    return st.norm.ppf(tolerance) * np.sqrt(((std_lead * deviation_multiplier) * mean_lead) + ( (std_demand * deviation_multiplier) * mean_demand))\n",
    "\n",
    "security_stock =  calculate_security_stock(stock_tolerance,\n",
    "                                           mean_lead_time,\n",
    "                                           std_lean_time,\n",
    "                                           estimate_demand,\n",
    "                                           std_demand)\n",
    "security_stock"
   ]
  },
  {
   "cell_type": "markdown",
   "id": "czech-fisher",
   "metadata": {},
   "source": [
    "# Cálcular o estoque mínimo e máximo"
   ]
  },
  {
   "cell_type": "code",
   "execution_count": 418,
   "id": "automatic-allah",
   "metadata": {},
   "outputs": [
    {
     "name": "stdout",
     "output_type": "stream",
     "text": [
      "1 42.01722816542123\n"
     ]
    }
   ],
   "source": [
    "confidence_tolerance = 0.95\n",
    "#scipy.stats.poisson.ppf([1-confidence_tolerance, confidence_tolerance], mean_demand)\n",
    "minimum_stock, max_stock = st.t.interval(confidence_tolerance, len(sales_agg), loc=mean_demand, scale=np.sqrt(std_demand)+2)\n",
    "if minimum_stock < 1:\n",
    "    minimum_stock = 1\n",
    "print(minimum_stock, max_stock)"
   ]
  },
  {
   "cell_type": "code",
   "execution_count": null,
   "id": "steady-innocent",
   "metadata": {},
   "outputs": [],
   "source": []
  }
 ],
 "metadata": {
  "kernelspec": {
   "display_name": "Python 3",
   "language": "python",
   "name": "python3"
  },
  "language_info": {
   "codemirror_mode": {
    "name": "ipython",
    "version": 3
   },
   "file_extension": ".py",
   "mimetype": "text/x-python",
   "name": "python",
   "nbconvert_exporter": "python",
   "pygments_lexer": "ipython3",
   "version": "3.8.5"
  }
 },
 "nbformat": 4,
 "nbformat_minor": 5
}
